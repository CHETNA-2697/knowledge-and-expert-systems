{
  "cells": [
    {
      "cell_type": "code",
      "execution_count": 1,
      "metadata": {
        "colab": {},
        "colab_type": "code",
        "id": "z5vVJL2pYCZ5"
      },
      "outputs": [
        {
          "name": "stdout",
          "output_type": "stream",
          "text": [
            "Collecting https://github.com/buguroo/pyknow/archive/v1.7.0.tar.gz\n",
            "  Using cached https://github.com/buguroo/pyknow/archive/v1.7.0.tar.gz\n",
            "  Installing build dependencies: started\n",
            "  Installing build dependencies: finished with status 'done'\n",
            "  Getting requirements to build wheel: started\n",
            "  Getting requirements to build wheel: finished with status 'done'\n",
            "  Preparing metadata (pyproject.toml): started\n",
            "  Preparing metadata (pyproject.toml): finished with status 'done'\n",
            "Requirement already satisfied: frozendict==1.2 in c:\\users\\cmanc\\appdata\\local\\programs\\python\\python312\\lib\\site-packages (from pyknow==1.7.0) (1.2)\n",
            "Requirement already satisfied: schema==0.6.7 in c:\\users\\cmanc\\appdata\\local\\programs\\python\\python312\\lib\\site-packages (from pyknow==1.7.0) (0.6.7)\n"
          ]
        },
        {
          "name": "stderr",
          "output_type": "stream",
          "text": [
            "\n",
            "[notice] A new release of pip is available: 23.2.1 -> 23.3.2\n",
            "[notice] To update, run: python.exe -m pip install --upgrade pip\n"
          ]
        }
      ],
      "source": [
        "!pip install https://github.com/buguroo/pyknow/archive/v1.7.0.tar.gz"
      ]
    },
    {
      "cell_type": "code",
      "execution_count": 3,
      "metadata": {},
      "outputs": [
        {
          "name": "stdout",
          "output_type": "stream",
          "text": [
            "Requirement already satisfied: pyknow in c:\\users\\cmanc\\appdata\\local\\programs\\python\\python312\\lib\\site-packages (1.7.0)\n",
            "Requirement already satisfied: frozendict==1.2 in c:\\users\\cmanc\\appdata\\local\\programs\\python\\python312\\lib\\site-packages (from pyknow) (1.2)\n",
            "Requirement already satisfied: schema==0.6.7 in c:\\users\\cmanc\\appdata\\local\\programs\\python\\python312\\lib\\site-packages (from pyknow) (0.6.7)\n",
            "Note: you may need to restart the kernel to use updated packages.\n"
          ]
        },
        {
          "name": "stderr",
          "output_type": "stream",
          "text": [
            "\n",
            "[notice] A new release of pip is available: 23.2.1 -> 23.3.2\n",
            "[notice] To update, run: python.exe -m pip install --upgrade pip\n"
          ]
        }
      ],
      "source": [
        "pip install --upgrade pyknow\n"
      ]
    },
    {
      "cell_type": "code",
      "execution_count": 1,
      "metadata": {
        "colab": {},
        "colab_type": "code",
        "id": "dEmO_-Tuzgh7"
      },
      "outputs": [
        {
          "ename": "AttributeError",
          "evalue": "module 'collections' has no attribute 'Mapping'",
          "output_type": "error",
          "traceback": [
            "\u001b[1;31m---------------------------------------------------------------------------\u001b[0m",
            "\u001b[1;31mAttributeError\u001b[0m                            Traceback (most recent call last)",
            "Cell \u001b[1;32mIn[1], line 1\u001b[0m\n\u001b[1;32m----> 1\u001b[0m \u001b[38;5;28;01mfrom\u001b[39;00m \u001b[38;5;21;01mpyknow\u001b[39;00m \u001b[38;5;28;01mimport\u001b[39;00m \u001b[38;5;241m*\u001b[39m\n\u001b[0;32m      2\u001b[0m \u001b[38;5;28;01mimport\u001b[39;00m \u001b[38;5;21;01mrandom\u001b[39;00m\n",
            "File \u001b[1;32mc:\\Users\\cmanc\\AppData\\Local\\Programs\\Python\\Python312\\Lib\\site-packages\\pyknow\\__init__.py:2\u001b[0m\n\u001b[0;32m      1\u001b[0m \u001b[38;5;28;01mfrom\u001b[39;00m \u001b[38;5;21;01m.\u001b[39;00m\u001b[38;5;21;01mconditionalelement\u001b[39;00m \u001b[38;5;28;01mimport\u001b[39;00m AND, OR, NOT, TEST, EXISTS, FORALL\n\u001b[1;32m----> 2\u001b[0m \u001b[38;5;28;01mfrom\u001b[39;00m \u001b[38;5;21;01m.\u001b[39;00m\u001b[38;5;21;01mengine\u001b[39;00m \u001b[38;5;28;01mimport\u001b[39;00m KnowledgeEngine\n\u001b[0;32m      3\u001b[0m \u001b[38;5;28;01mfrom\u001b[39;00m \u001b[38;5;21;01m.\u001b[39;00m\u001b[38;5;21;01mfact\u001b[39;00m \u001b[38;5;28;01mimport\u001b[39;00m Fact, InitialFact, Field\n\u001b[0;32m      4\u001b[0m \u001b[38;5;28;01mfrom\u001b[39;00m \u001b[38;5;21;01m.\u001b[39;00m\u001b[38;5;21;01mfieldconstraint\u001b[39;00m \u001b[38;5;28;01mimport\u001b[39;00m L, W, P\n",
            "File \u001b[1;32mc:\\Users\\cmanc\\AppData\\Local\\Programs\\Python\\Python312\\Lib\\site-packages\\pyknow\\engine.py:13\u001b[0m\n\u001b[0;32m     10\u001b[0m \u001b[38;5;28;01mfrom\u001b[39;00m \u001b[38;5;21;01mpyknow\u001b[39;00m \u001b[38;5;28;01mimport\u001b[39;00m abstract\n\u001b[0;32m     12\u001b[0m \u001b[38;5;28;01mfrom\u001b[39;00m \u001b[38;5;21;01mpyknow\u001b[39;00m\u001b[38;5;21;01m.\u001b[39;00m\u001b[38;5;21;01magenda\u001b[39;00m \u001b[38;5;28;01mimport\u001b[39;00m Agenda\n\u001b[1;32m---> 13\u001b[0m \u001b[38;5;28;01mfrom\u001b[39;00m \u001b[38;5;21;01mpyknow\u001b[39;00m\u001b[38;5;21;01m.\u001b[39;00m\u001b[38;5;21;01mfact\u001b[39;00m \u001b[38;5;28;01mimport\u001b[39;00m InitialFact\n\u001b[0;32m     14\u001b[0m \u001b[38;5;28;01mfrom\u001b[39;00m \u001b[38;5;21;01mpyknow\u001b[39;00m\u001b[38;5;21;01m.\u001b[39;00m\u001b[38;5;21;01mfactlist\u001b[39;00m \u001b[38;5;28;01mimport\u001b[39;00m FactList\n\u001b[0;32m     15\u001b[0m \u001b[38;5;28;01mfrom\u001b[39;00m \u001b[38;5;21;01mpyknow\u001b[39;00m\u001b[38;5;21;01m.\u001b[39;00m\u001b[38;5;21;01mrule\u001b[39;00m \u001b[38;5;28;01mimport\u001b[39;00m Rule\n",
            "File \u001b[1;32mc:\\Users\\cmanc\\AppData\\Local\\Programs\\Python\\Python312\\Lib\\site-packages\\pyknow\\fact.py:9\u001b[0m\n\u001b[0;32m      6\u001b[0m \u001b[38;5;28;01mfrom\u001b[39;00m \u001b[38;5;21;01mschema\u001b[39;00m \u001b[38;5;28;01mimport\u001b[39;00m Schema\n\u001b[0;32m      8\u001b[0m \u001b[38;5;28;01mfrom\u001b[39;00m \u001b[38;5;21;01mpyknow\u001b[39;00m\u001b[38;5;21;01m.\u001b[39;00m\u001b[38;5;21;01mpattern\u001b[39;00m \u001b[38;5;28;01mimport\u001b[39;00m Bindable\n\u001b[1;32m----> 9\u001b[0m \u001b[38;5;28;01mfrom\u001b[39;00m \u001b[38;5;21;01mpyknow\u001b[39;00m\u001b[38;5;21;01m.\u001b[39;00m\u001b[38;5;21;01mutils\u001b[39;00m \u001b[38;5;28;01mimport\u001b[39;00m freeze, unfreeze\n\u001b[0;32m     10\u001b[0m \u001b[38;5;28;01mfrom\u001b[39;00m \u001b[38;5;21;01mpyknow\u001b[39;00m\u001b[38;5;21;01m.\u001b[39;00m\u001b[38;5;21;01mconditionalelement\u001b[39;00m \u001b[38;5;28;01mimport\u001b[39;00m OperableCE\n\u001b[0;32m     11\u001b[0m \u001b[38;5;28;01mfrom\u001b[39;00m \u001b[38;5;21;01mpyknow\u001b[39;00m\u001b[38;5;21;01m.\u001b[39;00m\u001b[38;5;21;01mconditionalelement\u001b[39;00m \u001b[38;5;28;01mimport\u001b[39;00m ConditionalElement\n",
            "File \u001b[1;32mc:\\Users\\cmanc\\AppData\\Local\\Programs\\Python\\Python312\\Lib\\site-packages\\pyknow\\utils.py:4\u001b[0m\n\u001b[0;32m      1\u001b[0m \u001b[38;5;28;01mfrom\u001b[39;00m \u001b[38;5;21;01mfunctools\u001b[39;00m \u001b[38;5;28;01mimport\u001b[39;00m singledispatch\n\u001b[0;32m      2\u001b[0m \u001b[38;5;28;01mimport\u001b[39;00m \u001b[38;5;21;01mcollections\u001b[39;00m\u001b[38;5;21;01m.\u001b[39;00m\u001b[38;5;21;01mabc\u001b[39;00m\n\u001b[1;32m----> 4\u001b[0m \u001b[38;5;28;01mfrom\u001b[39;00m \u001b[38;5;21;01mfrozendict\u001b[39;00m \u001b[38;5;28;01mimport\u001b[39;00m frozendict\n\u001b[0;32m      6\u001b[0m \u001b[38;5;28;01mfrom\u001b[39;00m \u001b[38;5;21;01m.\u001b[39;00m\u001b[38;5;21;01mfieldconstraint\u001b[39;00m \u001b[38;5;28;01mimport\u001b[39;00m P\n\u001b[0;32m      9\u001b[0m \u001b[38;5;28;01mclass\u001b[39;00m \u001b[38;5;21;01mfrozenlist\u001b[39;00m(\u001b[38;5;28mtuple\u001b[39m):\n",
            "File \u001b[1;32mc:\\Users\\cmanc\\AppData\\Local\\Programs\\Python\\Python312\\Lib\\site-packages\\frozendict\\__init__.py:16\u001b[0m\n\u001b[0;32m     10\u001b[0m     OrderedDict \u001b[38;5;241m=\u001b[39m \u001b[38;5;28mNotImplemented\u001b[39m\n\u001b[0;32m     13\u001b[0m iteritems \u001b[38;5;241m=\u001b[39m \u001b[38;5;28mgetattr\u001b[39m(\u001b[38;5;28mdict\u001b[39m, \u001b[38;5;124m'\u001b[39m\u001b[38;5;124miteritems\u001b[39m\u001b[38;5;124m'\u001b[39m, \u001b[38;5;28mdict\u001b[39m\u001b[38;5;241m.\u001b[39mitems) \u001b[38;5;66;03m# py2-3 compatibility\u001b[39;00m\n\u001b[1;32m---> 16\u001b[0m \u001b[38;5;28;01mclass\u001b[39;00m \u001b[38;5;21;01mfrozendict\u001b[39;00m(\u001b[43mcollections\u001b[49m\u001b[38;5;241;43m.\u001b[39;49m\u001b[43mMapping\u001b[49m):\n\u001b[0;32m     17\u001b[0m \u001b[38;5;250m    \u001b[39m\u001b[38;5;124;03m\"\"\"\u001b[39;00m\n\u001b[0;32m     18\u001b[0m \u001b[38;5;124;03m    An immutable wrapper around dictionaries that implements the complete :py:class:`collections.Mapping`\u001b[39;00m\n\u001b[0;32m     19\u001b[0m \u001b[38;5;124;03m    interface. It can be used as a drop-in replacement for dictionaries where immutability is desired.\u001b[39;00m\n\u001b[0;32m     20\u001b[0m \u001b[38;5;124;03m    \"\"\"\u001b[39;00m\n\u001b[0;32m     22\u001b[0m     dict_cls \u001b[38;5;241m=\u001b[39m \u001b[38;5;28mdict\u001b[39m\n",
            "\u001b[1;31mAttributeError\u001b[0m: module 'collections' has no attribute 'Mapping'"
          ]
        }
      ],
      "source": [
        "from pyknow import *\n",
        "import random"
      ]
    },
    {
      "cell_type": "markdown",
      "metadata": {
        "colab_type": "text",
        "id": "w_XIiG14UTjx"
      },
      "source": [
        "# Classes"
      ]
    },
    {
      "cell_type": "markdown",
      "metadata": {
        "colab_type": "text",
        "id": "24XibL6hUYCk"
      },
      "source": [
        "## WinTotals"
      ]
    },
    {
      "cell_type": "code",
      "execution_count": null,
      "metadata": {
        "colab": {},
        "colab_type": "code",
        "id": "4t0lsjKlUaUo"
      },
      "outputs": [],
      "source": [
        "class WinTotals(Fact):\n",
        "    human = Field(int, default=0)\n",
        "    computer = Field(int, default=0)\n",
        "    ties = Field(int, default=0)"
      ]
    },
    {
      "cell_type": "markdown",
      "metadata": {
        "colab_type": "text",
        "id": "JBTnFHgSUeHp"
      },
      "source": [
        "## Results"
      ]
    },
    {
      "cell_type": "code",
      "execution_count": null,
      "metadata": {
        "colab": {},
        "colab_type": "code",
        "id": "ZxvfODISUg_h"
      },
      "outputs": [],
      "source": [
        "class Results(Fact):\n",
        "    winner = Field(str, mandatory=True)\n",
        "    loser = Field(str, mandatory=True)\n",
        "    why = Field(str, mandatory=True)"
      ]
    },
    {
      "cell_type": "markdown",
      "metadata": {
        "colab_type": "text",
        "id": "a2egmwPEUlg6"
      },
      "source": [
        "## ValidAnswer"
      ]
    },
    {
      "cell_type": "code",
      "execution_count": null,
      "metadata": {
        "colab": {},
        "colab_type": "code",
        "id": "Np3zY2k3Unv5"
      },
      "outputs": [],
      "source": [
        "class ValidAnswer(Fact):\n",
        "    answer = Field(str, mandatory=True)\n",
        "    key = Field(str, mandatory=True)"
      ]
    },
    {
      "cell_type": "markdown",
      "metadata": {
        "colab_type": "text",
        "id": "C3UVVV3VVZ5t"
      },
      "source": [
        "## Action, HumanChoice, ComputerChoice"
      ]
    },
    {
      "cell_type": "code",
      "execution_count": null,
      "metadata": {
        "colab": {},
        "colab_type": "code",
        "id": "M-fDOX4dVeQJ"
      },
      "outputs": [],
      "source": [
        "class Action(Fact):\n",
        "    pass\n",
        "\n",
        "\n",
        "class HumanChoice(Fact):\n",
        "    pass\n",
        "\n",
        "\n",
        "class ComputerChoice(Fact):\n",
        "    pass"
      ]
    },
    {
      "cell_type": "markdown",
      "metadata": {
        "colab_type": "text",
        "id": "j_-ABPvOViAO"
      },
      "source": [
        "## RockPaperScissors"
      ]
    },
    {
      "cell_type": "code",
      "execution_count": null,
      "metadata": {
        "colab": {},
        "colab_type": "code",
        "id": "pg51bvnRBXKX"
      },
      "outputs": [],
      "source": [
        "# Subclass KnowledgeEngine\n",
        "# declaring facts: declare(Fact()) \n",
        "# retracting facts: retract(Fact())\n",
        "\n",
        "class RockPaperScissors(KnowledgeEngine):\n",
        "    \n",
        "    @DefFacts()\n",
        "    def game_rules(self):\n",
        "        \"\"\"Declare game rules and valid input keys for the user.\"\"\"\n",
        "        print('DefFacts: setting up game rules.')\n",
        "        self.valid_answers = dict()\n",
        "        \n",
        "        yield Results(winner='rock', loser='scissors', why='Rock smashes scissors')\n",
        "        yield Results(winner='paper', loser='rock', why='Paper covers rock')\n",
        "        yield Results(winner='scissors', loser='paper', why='Scissors cut paper')\n",
        "        yield ValidAnswer(answer='rock', key='r')\n",
        "        yield ValidAnswer(answer='paper', key='p')\n",
        "        yield ValidAnswer(answer='scissors', key='s')\n",
        "\n",
        "        print('All rules in place ...')\n",
        "\n",
        "  \n",
        "    \n",
        "    @Rule() \n",
        "    def startup(self):\n",
        "        print(\"Lets play a game!\")\n",
        "        print(\"You choose rock, paper, or scissors,\")\n",
        "        print(\"and I'll do the same.\")\n",
        "        self.declare(WinTotals(human=0, computer=0, ties=0))\n",
        "        self.declare(Action('get-human-move'))\n",
        "    \n",
        "    @Rule(NOT(Action()),\n",
        "          ValidAnswer(answer=MATCH.answer,\n",
        "                      key=MATCH.key))\n",
        "    def store_valid_answers(self, answer, key):\n",
        "        print('store_valid_answers', key, answer)\n",
        "        self.valid_answers[key] = answer\n",
        "\n",
        "    #\n",
        "    # HUMAN MOVE RULES\n",
        "    #\n",
        "    @Rule(Action('get-human-move'))\n",
        "    def get_human_move(self):\n",
        "        question = \", \".join(\n",
        "            \"{name} ({key})\".format(\n",
        "                name=a[1].title(), key=a[0].upper())\n",
        "            for a in self.valid_answers.items()) + '? '\n",
        "        res = input(question).lower()\n",
        "        self.declare(HumanChoice(res))\n",
        "    \n",
        "    @Rule(AS.f1 << HumanChoice(MATCH.choice),\n",
        "          ValidAnswer(answer=MATCH.answer,\n",
        "                      key=MATCH.choice),\n",
        "          AS.f2 << Action('get-human-move'))\n",
        "    def good_human_move(self, f1, f2, answer):\n",
        "        self.retract(f1)\n",
        "        self.retract(f2)\n",
        "        self.declare(HumanChoice(answer))\n",
        "        self.declare(Action('get-computer-move'))\n",
        "    \n",
        "    # retracting a rule from inference engine\n",
        "    # retract() Removes an existing fact from the factlis\n",
        "    @Rule(AS.f1 << HumanChoice(MATCH.choice),\n",
        "          NOT(ValidAnswer(key=MATCH.choice)),\n",
        "          AS.f2 << Action('get-human-move'))\n",
        "    def bad_human_move(self, f1, f2, choice):\n",
        "        print(\"Sorry %s is not a valid answer\" % choice)\n",
        "        self.retract(f1)\n",
        "        self.retract(f2)\n",
        "        self.declare(Action('get-human-move'))\n",
        "    \n",
        "    #\n",
        "    # COMPUTER MOVE RULES\n",
        "    #\n",
        "    @Rule(AS.f1 << Action('get-computer-move'))\n",
        "    def get_computer_move(self, f1):\n",
        "        choice = random.choice(list(self.valid_answers.values()))\n",
        "        self.retract(f1)\n",
        "        self.declare(ComputerChoice(choice))\n",
        "        self.declare(Action('determine-results'))\n",
        "\n",
        "    #\n",
        "    # WIN DETERMINATION RULES\n",
        "    #\n",
        "    @Rule(AS.f1 << Action('determine-results'),\n",
        "          AS.f2 << ComputerChoice(MATCH.cc),\n",
        "          AS.f3 << HumanChoice(MATCH.hc),\n",
        "          AS.w << WinTotals(computer=MATCH.cw),\n",
        "          Results(winner=MATCH.cc,\n",
        "                  loser=MATCH.hc,\n",
        "                  why=MATCH.explanation))\n",
        "    def computer_wins(self, f1, f2, f3, w, cw, explanation):\n",
        "        self.retract(f1)\n",
        "        self.retract(f2)\n",
        "        self.retract(f3)\n",
        "        self.modify(w, computer=cw + 1)\n",
        "        print(\"Computer wins!\", explanation)\n",
        "        self.declare(Action('determine-play-again'))\n",
        "        \n",
        "    @Rule(AS.f1 << Action('determine-results'),\n",
        "          AS.f2 << ComputerChoice(MATCH.cc),\n",
        "          AS.f3 << HumanChoice(MATCH.hc),\n",
        "          'w' << WinTotals(human=MATCH.hw),\n",
        "          Results(winner=MATCH.hc,\n",
        "                  loser=MATCH.cc,\n",
        "                  why=MATCH.explanation))\n",
        "    def humans_wins(self, f1, f2, f3, w, hw, explanation):\n",
        "        self.retract(f1)\n",
        "        self.retract(f2)\n",
        "        self.retract(f3)\n",
        "        self.modify(w, human=hw + 1)\n",
        "        print(\"You win!\", explanation)\n",
        "        self.declare(Action('determine-play-again'))\n",
        "        \n",
        "    @Rule(AS.f1 << Action('determine-results'),\n",
        "          AS.f2 << ComputerChoice(MATCH.cc),\n",
        "          AS.f3 << HumanChoice(MATCH.cc),\n",
        "          AS.w << WinTotals(ties=MATCH.nt))\n",
        "    def tie(self, f1, f2, f3, w, nt):\n",
        "        self.retract(f1)\n",
        "        self.retract(f2)\n",
        "        self.retract(f3)\n",
        "        self.modify(w, ties=nt + 1)\n",
        "        print(\"Tie! Ha-ha!\")\n",
        "        self.declare(Action('determine-play-again'))\n",
        "    \n",
        "    #\n",
        "    # PLAY AGAIN RULE\n",
        "    #\n",
        "    @Rule(AS.f1 << Action('determine-play-again'),\n",
        "          WinTotals(computer=MATCH.ct,\n",
        "                    human=MATCH.ht,\n",
        "                    ties=MATCH.tt))\n",
        "    def play_again(self, f1, ct, ht, tt):\n",
        "        self.retract(f1)\n",
        "        if not self.yes_or_no(\"Play again?\"):\n",
        "            print(\"You won\", ht, \"game(s).\")\n",
        "            print(\"Computer won\", ct, \"game(s).\")\n",
        "            print(\"We tied\", tt, \"game(s).\")\n",
        "            self.halt()\n",
        "        else:\n",
        "            self.declare(Action('get-human-move'))\n",
        "\n",
        "    def yes_or_no(self, question):\n",
        "        return input(question).upper().startswith('Y')"
      ]
    },
    {
      "cell_type": "markdown",
      "metadata": {
        "colab_type": "text",
        "id": "sZyQeSis6MEd"
      },
      "source": [
        "# Play"
      ]
    },
    {
      "cell_type": "code",
      "execution_count": 1,
      "metadata": {
        "colab": {},
        "colab_type": "code",
        "id": "k50k3Lym2i04"
      },
      "outputs": [
        {
          "ename": "NameError",
          "evalue": "name 'RockPaperScissors' is not defined",
          "output_type": "error",
          "traceback": [
            "\u001b[1;31m---------------------------------------------------------------------------\u001b[0m",
            "\u001b[1;31mNameError\u001b[0m                                 Traceback (most recent call last)",
            "Cell \u001b[1;32mIn[1], line 1\u001b[0m\n\u001b[1;32m----> 1\u001b[0m rps \u001b[38;5;241m=\u001b[39m \u001b[43mRockPaperScissors\u001b[49m()\n",
            "\u001b[1;31mNameError\u001b[0m: name 'RockPaperScissors' is not defined"
          ]
        }
      ],
      "source": [
        "rps = RockPaperScissors()"
      ]
    },
    {
      "cell_type": "code",
      "execution_count": null,
      "metadata": {
        "colab": {
          "base_uri": "https://localhost:8080/",
          "height": 286
        },
        "colab_type": "code",
        "id": "LzVmMwp8Bigj",
        "outputId": "3e46bc79-6825-49db-d428-bd5e6b8af80e"
      },
      "outputs": [
        {
          "name": "stdout",
          "output_type": "stream",
          "text": [
            "DefFacts: setting up game rules.\n",
            "All rules in place ...\n",
            "store_valid_answers s scissors\n",
            "store_valid_answers p paper\n",
            "store_valid_answers r rock\n",
            "Lets play a game!\n",
            "You choose rock, paper, or scissors,\n",
            "and I'll do the same.\n",
            "Scissors (S), Paper (P), Rock (R)? f\n",
            "Sorry f is not a valid answer\n",
            "Scissors (S), Paper (P), Rock (R)? r\n",
            "Computer wins! Paper covers rock\n",
            "Play again?n\n",
            "You won 0 game(s).\n",
            "Computer won 1 game(s).\n",
            "We tied 0 game(s).\n"
          ]
        }
      ],
      "source": [
        "rps.reset()\n",
        "rps.run()"
      ]
    }
  ],
  "metadata": {
    "colab": {
      "collapsed_sections": [],
      "name": "PyKnow_Lab_RockPaperScissors.ipynb",
      "provenance": []
    },
    "kernelspec": {
      "display_name": "Python 3",
      "name": "python3"
    },
    "language_info": {
      "codemirror_mode": {
        "name": "ipython",
        "version": 3
      },
      "file_extension": ".py",
      "mimetype": "text/x-python",
      "name": "python",
      "nbconvert_exporter": "python",
      "pygments_lexer": "ipython3",
      "version": "3.12.1"
    }
  },
  "nbformat": 4,
  "nbformat_minor": 0
}
